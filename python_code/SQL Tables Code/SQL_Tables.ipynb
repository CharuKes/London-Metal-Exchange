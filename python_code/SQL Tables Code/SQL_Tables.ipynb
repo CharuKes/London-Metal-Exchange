{
 "cells": [
  {
   "cell_type": "markdown",
   "id": "1ed167b3-43cb-49f3-993d-8bf1d7500708",
   "metadata": {},
   "source": [
    "**Import important module**"
   ]
  },
  {
   "cell_type": "code",
   "execution_count": 1,
   "id": "2bc44455-a32a-482b-bdea-862bb2f43205",
   "metadata": {},
   "outputs": [],
   "source": [
    "import mysql.connector as sql\n",
    "import pandas as pd\n",
    "import csv\n",
    "from mysql.connector import connect, Error"
   ]
  },
  {
   "cell_type": "markdown",
   "id": "9b77ba6b-f1cb-498b-8dff-7009710affaf",
   "metadata": {},
   "source": [
    "**Conenect to database MySQL Workbench**"
   ]
  },
  {
   "cell_type": "code",
   "execution_count": 2,
   "id": "2d6bc110-1790-4e5b-a1bc-be96aa1e9ef8",
   "metadata": {},
   "outputs": [],
   "source": [
    "mydb = sql.connect(host='localhost', user='root', port=3306, database='maverick', use_pure=True)"
   ]
  },
  {
   "cell_type": "code",
   "execution_count": 3,
   "id": "43ff1b12-1825-49d6-aca7-beacc3a60674",
   "metadata": {},
   "outputs": [],
   "source": [
    "mycursor = mydb.cursor()"
   ]
  },
  {
   "cell_type": "markdown",
   "id": "e0199a98-7897-4461-be92-9b4d794dc8b0",
   "metadata": {},
   "source": [
    "**Creating table for Metal Prices and droping the table if exist in the database**"
   ]
  },
  {
   "cell_type": "code",
   "execution_count": 4,
   "id": "7718a7dd-f5c4-422f-beb4-f3b9cfe4af0f",
   "metadata": {},
   "outputs": [],
   "source": [
    "mycursor.execute(\"DROP TABLE IF EXISTS precious_metals\")\n",
    "mycursor.execute(\"\"\"\n",
    "  CREATE TABLE precious_metals (\n",
    "    Year INT,\n",
    "    Month INT,\n",
    "    Date DATE,\n",
    "    Gold DECIMAL(10, 2),\n",
    "    Silver DECIMAL(10, 2),\n",
    "    Platinum DECIMAL(10, 2),\n",
    "    Palladium DECIMAL(10, 2)\n",
    "  )\n",
    "\"\"\")\n",
    "mydb.commit()"
   ]
  },
  {
   "cell_type": "markdown",
   "id": "09b6de53-e4df-4048-8de8-46e0fb617e45",
   "metadata": {},
   "source": [
    "**Adding data in the table using csv file Metal_Prices.csv**"
   ]
  },
  {
   "cell_type": "code",
   "execution_count": 5,
   "id": "ba705c9b-3aab-41f8-b82f-baf307b442fe",
   "metadata": {},
   "outputs": [],
   "source": [
    "with open('Metal_Prices.csv', 'r') as csv_file:\n",
    "    # Create a CSV reader object\n",
    "    csv_data = csv.reader(csv_file)\n",
    "    next(csv_data)\n",
    "    \n",
    "    for row in csv_data:\n",
    "        mycursor.execute('INSERT INTO precious_metals (Year, Month, Date, Gold, Silver, Platinum, Palladium) VALUES (%s, %s, %s, %s, %s, %s, %s)', row)\n",
    "\n",
    "mydb.commit()"
   ]
  },
  {
   "cell_type": "markdown",
   "id": "ed5d6ccf-633f-43ca-b10e-8a2b9215db1a",
   "metadata": {},
   "source": [
    "**Adding another table or dpropping of exist for data Inflation_Figures.csv**"
   ]
  },
  {
   "cell_type": "code",
   "execution_count": 6,
   "id": "ef9af03c-aef4-47f5-9a47-8129465ed6a5",
   "metadata": {},
   "outputs": [],
   "source": [
    "mycursor.execute(\"DROP TABLE IF EXISTS inflation_years\")\n",
    "mycursor.execute(\"\"\"\n",
    "  CREATE TABLE inflation_years (\n",
    "    Year INT,\n",
    "    Month INT,\n",
    "    Inflation DECIMAL(10, 2)\n",
    "  )\n",
    "\"\"\")\n",
    "mydb.commit()"
   ]
  },
  {
   "cell_type": "markdown",
   "id": "784fcff1-570f-4519-bdd6-8d894c17a045",
   "metadata": {},
   "source": [
    "**Adding data to the table**"
   ]
  },
  {
   "cell_type": "code",
   "execution_count": 7,
   "id": "05a1a636-5c53-4e4f-9132-ccb6e6f94f8b",
   "metadata": {},
   "outputs": [],
   "source": [
    "with open('Inflation_Figures.csv', 'r') as csv_file:\n",
    "    # Create a CSV reader object\n",
    "    csv_data = csv.reader(csv_file)\n",
    "    next(csv_data)\n",
    "    \n",
    "    for row in csv_data:\n",
    "        mycursor.execute('INSERT INTO inflation_years (Year, Month, inflation) VALUES (%s, %s, %s)', row)\n",
    "        \n",
    "mydb.commit()"
   ]
  },
  {
   "cell_type": "markdown",
   "id": "29e6826b-a437-4868-88cb-49076a8207f0",
   "metadata": {},
   "source": [
    "**Example querry to check the database**"
   ]
  },
  {
   "cell_type": "code",
   "execution_count": 8,
   "id": "43358dfb-b142-4563-9d12-4d61d7a77f64",
   "metadata": {},
   "outputs": [
    {
     "name": "stdout",
     "output_type": "stream",
     "text": [
      "(datetime.date(1990, 12, 28), 1990, Decimal('385.80'), Decimal('9.20'))\n",
      "(datetime.date(1990, 12, 28), 1990, Decimal('385.80'), Decimal('4.80'))\n",
      "(datetime.date(1990, 12, 28), 1990, Decimal('385.80'), Decimal('0.80'))\n",
      "(datetime.date(1990, 12, 28), 1990, Decimal('385.80'), Decimal('1.40'))\n",
      "(datetime.date(1990, 12, 28), 1990, Decimal('385.80'), Decimal('2.00'))\n"
     ]
    }
   ],
   "source": [
    "sqlquery = \"select p.date, p.year, p.gold, i.inflation from precious_metals as p left join inflation_years as i on p.month = i.month limit 5 \"\n",
    "mycursor.execute(sqlquery)\n",
    "result = mycursor.fetchall()\n",
    "for i in result:\n",
    "    print(i)"
   ]
  },
  {
   "cell_type": "markdown",
   "id": "0940c49a-af84-4ce3-8471-df16cc670187",
   "metadata": {},
   "source": [
    "**Creating another table Monthly_metal_Prices_Inflation.csv and dropping if exist**"
   ]
  },
  {
   "cell_type": "code",
   "execution_count": 9,
   "id": "cf3854cb-0365-4046-ad70-9f51e36a68e0",
   "metadata": {},
   "outputs": [],
   "source": [
    "mycursor.execute(\"DROP TABLE IF EXISTS metals_with_inflation\")\n",
    "mycursor.execute(\"\"\"\n",
    "  CREATE TABLE metals_with_inflation (\n",
    "    Year INT,\n",
    "    Month INT,\n",
    "    Date DATE,\n",
    "    Gold DECIMAL(10, 2),\n",
    "    Silver DECIMAL(10, 2),\n",
    "    Platinum DECIMAL(10, 2),\n",
    "    Palladium DECIMAL(10, 2),\n",
    "    Inflation DECIMAL(10, 2)\n",
    "  )\n",
    "\"\"\")\n",
    "mydb.commit()"
   ]
  },
  {
   "cell_type": "markdown",
   "id": "d3147af5-0672-4c15-8413-0b8e148b8535",
   "metadata": {},
   "source": [
    "**Adding data to the table using Monthly_metal_Prices_Inflation.csv**"
   ]
  },
  {
   "cell_type": "code",
   "execution_count": 10,
   "id": "e5489f03-5a41-487c-98e5-dbaad0bb5b9c",
   "metadata": {},
   "outputs": [],
   "source": [
    "with open('Monthly_metal_Prices_Inflation.csv', 'r') as csv_file:\n",
    "    # Create a CSV reader object\n",
    "    csv_data = csv.reader(csv_file)\n",
    "    next(csv_data)\n",
    "\n",
    "    for row in csv_data:\n",
    "        mycursor.execute('INSERT INTO metals_with_inflation (Year, Month, Gold, Silver, Platinum, Palladium, inflation) VALUES (%s, %s, %s, %s, %s, %s, %s)', row)\n",
    "\n",
    "mydb.commit()"
   ]
  },
  {
   "cell_type": "markdown",
   "id": "ed4ade56-8f1b-4ed8-8926-29e5cb206f9d",
   "metadata": {},
   "source": [
    "**Example querry to check the database**"
   ]
  },
  {
   "cell_type": "code",
   "execution_count": 11,
   "id": "6f2717af-a7ae-4dcb-bbff-e08363147d37",
   "metadata": {},
   "outputs": [
    {
     "name": "stdout",
     "output_type": "stream",
     "text": [
      "(1990, Decimal('374.59'), Decimal('6.20'))\n",
      "(1990, Decimal('368.95'), Decimal('7.70'))\n",
      "(1990, Decimal('352.49'), Decimal('8.20'))\n",
      "(1990, Decimal('362.18'), Decimal('8.20'))\n",
      "(1990, Decimal('394.79'), Decimal('8.20'))\n",
      "(1990, Decimal('389.44'), Decimal('8.90'))\n",
      "(1990, Decimal('381.04'), Decimal('9.20'))\n",
      "(1990, Decimal('381.80'), Decimal('9.20'))\n",
      "(1990, Decimal('377.06'), Decimal('9.20'))\n",
      "(1991, Decimal('384.11'), Decimal('9.20'))\n"
     ]
    }
   ],
   "source": [
    "sqlquery = \"select p.year, p.gold, p.inflation from metals_with_inflation as p limit 10 \"\n",
    "mycursor.execute(sqlquery)\n",
    "result = mycursor.fetchall()\n",
    "for i in result:\n",
    "    print(i)"
   ]
  }
 ],
 "metadata": {
  "kernelspec": {
   "display_name": "Python 3 (ipykernel)",
   "language": "python",
   "name": "python3"
  },
  "language_info": {
   "codemirror_mode": {
    "name": "ipython",
    "version": 3
   },
   "file_extension": ".py",
   "mimetype": "text/x-python",
   "name": "python",
   "nbconvert_exporter": "python",
   "pygments_lexer": "ipython3",
   "version": "3.8.16"
  }
 },
 "nbformat": 4,
 "nbformat_minor": 5
}
